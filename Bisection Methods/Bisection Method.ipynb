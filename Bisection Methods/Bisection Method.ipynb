{
 "cells": [
  {
   "cell_type": "code",
   "execution_count": 1,
   "metadata": {},
   "outputs": [],
   "source": [
    "import matplotlib.pyplot as plt\n",
    "import numpy as np"
   ]
  },
  {
   "cell_type": "markdown",
   "metadata": {},
   "source": [
    "# Bisection Method\n",
    "\n",
    "The bisection method is a root-finding method that applies to any continuous functions for which two output values with opposite signs are known. \n",
    "\n",
    "## Definition\n",
    "\n",
    "Assume that $f(x)$ is continuous on a given interval $\\left[a, b \\right]$ and that is also satisfies\n",
    "\n",
    "$$\n",
    "f(a) \\cdot f(b) < 0\n",
    "$$\n",
    "\n",
    "as to say that the result of $f(a)$ times $f(b)$ have to have opposite signs as to satisfy their multiplications to be negative. \n",
    "\n",
    "Using the [intermediate value theorem](https://en.wikipedia.org/wiki/Intermediate_value_theorem), the function $f(x)$ must have at least one root in $[a, b]$: in this case a root value k where  $a \\le k \\le b$ and $f(k) = 0$. This is why you must pick two numbers $a$ and $b$ with opposite signs $[-, +]$. \n",
    "\n",
    "---"
   ]
  },
  {
   "cell_type": "markdown",
   "metadata": {},
   "source": [
    "## Function Example\n",
    "\n",
    "$$\n",
    "f(x) = \\sin(x)\\left(\\frac{1}{1-x^2}\\right)\n",
    "$$"
   ]
  },
  {
   "cell_type": "code",
   "execution_count": 3,
   "metadata": {},
   "outputs": [],
   "source": [
    "def f(x):\n",
    "    return np.divide(1, 1 + np.power(x, 2)) * np.sin(x)"
   ]
  },
  {
   "cell_type": "code",
   "execution_count": 69,
   "metadata": {},
   "outputs": [
    {
     "data": {
      "text/plain": [
       "<matplotlib.legend.Legend at 0x1064ee4e0>"
      ]
     },
     "execution_count": 69,
     "metadata": {},
     "output_type": "execute_result"
    },
    {
     "data": {
      "image/png": "[encoded data removed]",
      "text/plain": [
       "<Figure size 432x288 with 1 Axes>"
      ]
     },
     "metadata": {},
     "output_type": "display_data"
    }
   ],
   "source": [
    "points = np.arange(-10, 10, .001)\n",
    "plt.xlim(-10,10)\n",
    "plt.ylim(-.5, .5)\n",
    "plt.axhline(y=0, color='k')\n",
    "plt.axvline(x=0, color='k')\n",
    "plt.plot(points, f(points), label=\"original function\")\n",
    "plt.legend(bbox_to_anchor=(1.05, 1), loc=2, borderaxespad=0.)"
   ]
  },
  {
   "cell_type": "markdown",
   "metadata": {},
   "source": [
    "With the above graph, it becomes evident that a root exists between the following values:\n",
    "\n",
    "* $[-7.5, -5.0]$\n",
    "* $[-5.0, -2.5]$\n",
    "* $[-2.5, 2.5]$\n",
    "* $[2.5, 5.0]$\n",
    "* $[5.0, 7.5]$\n",
    "\n",
    "Which we can utilize to run our implementation of the bisection method below.\n",
    "\n",
    "---\n",
    "## Implementation"
   ]
  },
  {
   "cell_type": "code",
   "execution_count": 87,
   "metadata": {},
   "outputs": [],
   "source": [
    "def bisect(f, a, b, e):\n",
    "    \"\"\" Bisection Method\n",
    "\n",
    "    inputs:\n",
    "    f - a function.\n",
    "    a - Starting interval\n",
    "    b - Ending interval\n",
    "    e - Acceptable value for 0; (e.g. consider 0.001 == 0)\n",
    "    \"\"\"\n",
    "\n",
    "    while(True):\n",
    "        c = (a + b)/2\n",
    "        if b - c <= e:\n",
    "            return c if abs(c) > e else 0\n",
    "        elif f(b)*f(c) <= 0:\n",
    "            a = c\n",
    "        else:\n",
    "            b = c"
   ]
  },
  {
   "cell_type": "markdown",
   "metadata": {},
   "source": [
    "### 1. Finding Roots\n",
    "\n",
    "The interval $[a, b]$ is halved in size for every pass through the algorithm. Because of line 17 through 19 on the code above, $[a, b]$ will always contain a root of $f(x)$. Since a root $\\alpha$ is in the range of $[a, b]$, it must lie within either $[a, c]$ or $[c, b]$; and consequently\n",
    "\n",
    "$$\n",
    "| \\ c - \\alpha \\ | \\ge b - c = c - a\n",
    "$$\n",
    "\n",
    "This is justficiation for the test on line 14. On completion of the algortihm, $c$ will be an approximation to the root with \n",
    "\n",
    "$$\n",
    "| \\ c - \\alpha \\ | \\le \\epsilon\n",
    "$$"
   ]
  },
  {
   "cell_type": "code",
   "execution_count": 91,
   "metadata": {},
   "outputs": [
    {
     "name": "stdout",
     "output_type": "stream",
     "text": [
      "f(0) =  -6.283185258507729\n",
      "f(0) =  -3.1415926665067673\n",
      "f(0) =  0\n",
      "f(0) =  3.1415926665067673\n",
      "f(0) =  6.283185258507729\n"
     ]
    }
   ],
   "source": [
    "r = [-7.5, -5.0, -2.5, 2.5, 5.0, 7.5]\n",
    "roots = []\n",
    "for i in range(len(r) - 1):\n",
    "    root = bisect(f, r[i], r[i+1], 10**(-7))\n",
    "    roots.append(root)\n",
    "    print('f(0) = ', root)"
   ]
  },
  {
   "cell_type": "markdown",
   "metadata": {},
   "source": [
    "### 2. Testing our Roots"
   ]
  },
  {
   "cell_type": "code",
   "execution_count": 94,
   "metadata": {},
   "outputs": [
    {
     "name": "stdout",
     "output_type": "stream",
     "text": [
      "f(-6.283185258507729) =  1.2024150526688845e-09\n",
      "f(-3.1415926665067673) =  1.188357318390102e-09\n",
      "f(0) =  0.0\n",
      "f(3.1415926665067673) =  -1.188357318390102e-09\n",
      "f(6.283185258507729) =  -1.2024150526688845e-09\n"
     ]
    }
   ],
   "source": [
    "for root in roots:\n",
    "    print(f'f({root}) = ', f(root))"
   ]
  },
  {
   "cell_type": "markdown",
   "metadata": {},
   "source": [
    "### 3. Analyzing our Results\n",
    "\n",
    "You will notice that not all of the results perfectly equals to zero, but that is due to the value for $\\epsilon$ that we had set in step number 1.\n",
    "\n",
    "There, we set $\\epsilon = 10^{-7}$, or in other words, we told our machine to accept any number below that value as equals to zero. "
   ]
  }
 ],
 "metadata": {
  "kernelspec": {
   "display_name": "Python 3",
   "language": "python",
   "name": "python3"
  },
  "language_info": {
   "codemirror_mode": {
    "name": "ipython",
    "version": 3
   },
   "file_extension": ".py",
   "mimetype": "text/x-python",
   "name": "python",
   "nbconvert_exporter": "python",
   "pygments_lexer": "ipython3",
   "version": "3.6.4"
  }
 },
 "nbformat": 4,
 "nbformat_minor": 2
}
